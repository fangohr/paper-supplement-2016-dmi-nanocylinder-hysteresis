{
 "cells": [
  {
   "cell_type": "markdown",
   "metadata": {},
   "source": [
    "#Explantions of the data formats\n",
    "The raw data for figures 1 and 2 are found the directories, `data/figure_1/` and `data/figure_2` respectively.\n",
    "This notebook explains the different data types found in the these directories."
   ]
  },
  {
   "cell_type": "code",
   "execution_count": 1,
   "metadata": {
    "collapsed": true
   },
   "outputs": [],
   "source": [
    "import numpy as np"
   ]
  },
  {
   "cell_type": "markdown",
   "metadata": {},
   "source": [
    "##Figure 1\n",
    "###hysteresis_loops\n",
    "The data for the hysteresis loops is found in `../data/figure_1/hysteresis_loops/sim_hysteresis_FeGe_nanodisk_d150_h*.npy` where * specifies the thickness/height of the nanocylinder for 10-90nm in steps of 5nm.\n",
    "\n",
    "These files contain the components of the average magnetisation of the sample, $m_x$, $m_y$, $m_z$ and the average energy, $E$ of the sample recorded at each field step of the hysteresis (there were 801 field steps in total for the hysteresis field swept up and down).\n",
    "\n",
    "The data was stored as a numpy array in the form ($m_x$, $m_y$, $m_z$, $E$), and thus has a shape, (4, 801)."
   ]
  },
  {
   "cell_type": "code",
   "execution_count": 2,
   "metadata": {
    "collapsed": false
   },
   "outputs": [],
   "source": [
    "mx, my, mz, E = np.load('../data/figure_1/hysteresis_loops/sim_hysteresis_FeGe_nanodisk_d150_h20.npy')"
   ]
  },
  {
   "cell_type": "markdown",
   "metadata": {},
   "source": [
    "###magnetisation_profiles\n",
    "The magnetisation profile ($m_z$ sampled along the diameter, on the top surface of a nanocylinder sample) data was sampled at 100 equally spaced points along the diameter for the 35nm and 55nm nanocylinders and at 200 equally spaced points along the diameter for the 20nm samples (there were no particular reasons for the more refined sample).\n",
    "\n",
    "`../data/figure_1/figure_1/magnetisation_profiles/hysteresis_probe_d150_h55_mz*.npy` where * indicates the step number in the hysteresis (801 in total), from when the data was sampled."
   ]
  },
  {
   "cell_type": "code",
   "execution_count": 3,
   "metadata": {
    "collapsed": true
   },
   "outputs": [],
   "source": [
    "mz_profile = np.load('../data/figure_1/magnetisation_profiles/hysteresis_probe_d150_h55_mz210.npy')"
   ]
  },
  {
   "cell_type": "markdown",
   "metadata": {},
   "source": [
    "###3d_data\n",
    "Several png files of showing the 3d images of the magnetisation at various stages throughout the hysteresis of a 55nm thick nanocylinder can be found at in the directory, `../data/figure_1/3d_data/images/sim_hysteresis_FeGe_nanodisk_d150_h55_*.png`, where * is the step number from the hysteresis from which the state appeared.\n",
    "\n",
    "These images were generated from vtk files, whch can be found at `../data/figure_1/3d_data/vtk/'\n",
    "using the 3D visulisation programme, Paraview (http://www.paraview.org/).\n",
    "\n",
    "##Figure 2\n",
    "\n",
    "At each point in the hysteresis, the state type was determined through the image detection approach and saved into a multi dimensional array of the shape (H, t), with H being the external hysteresis field and t being the thickness.\n",
    "\n",
    "The array was populated with integers ranging from 0-5, depending on the state type, where:\n",
    "\n",
    "- 0: incomplete skyrmion (core down)\n",
    "- 1: transition state (no radial symmetry)\n",
    "- 2: skyrmion (core up)\n",
    "- 3: target state\n",
    "- 4: skyrmion (core down)\n",
    "- 5: incomplete skyrmion (core up)\n"
   ]
  },
  {
   "cell_type": "code",
   "execution_count": 4,
   "metadata": {
    "collapsed": false
   },
   "outputs": [],
   "source": [
    "state_types = np.load('../data/figure_2/phase_diagram_state_types_demag.npy')"
   ]
  }
 ],
 "metadata": {
  "kernelspec": {
   "display_name": "Python 2",
   "language": "python",
   "name": "python2"
  },
  "language_info": {
   "codemirror_mode": {
    "name": "ipython",
    "version": 2
   },
   "file_extension": ".py",
   "mimetype": "text/x-python",
   "name": "python",
   "nbconvert_exporter": "python",
   "pygments_lexer": "ipython2",
   "version": "2.7.6"
  }
 },
 "nbformat": 4,
 "nbformat_minor": 0
}
