{
 "cells": [
  {
   "cell_type": "code",
   "execution_count": 1,
   "metadata": {
    "collapsed": true
   },
   "outputs": [],
   "source": [
    "%matplotlib inline\n",
    "import numpy as np\n",
    "import matplotlib.pyplot as plt\n",
    "from matplotlib.colors import from_levels_and_colors"
   ]
  },
  {
   "cell_type": "code",
   "execution_count": 2,
   "metadata": {
    "collapsed": true
   },
   "outputs": [],
   "source": [
    "dark_purple = '#8464c5'\n",
    "light_purple = '#ededfb'\n",
    "dark_green = '#336433'\n",
    "light_green = '#a0d9a0'\n",
    "white = '#FFFFFF'\n",
    "olive = '#aaa460'"
   ]
  },
  {
   "cell_type": "code",
   "execution_count": 3,
   "metadata": {
    "collapsed": true
   },
   "outputs": [],
   "source": [
    "thicknesses_x = np.array([10,15,20,25,30,35,40,45,50,55,60,65,70,75,80,85,90]) - 2.5\n",
    "Hvalues = np.linspace(-4,4,401)\n",
    "x, y = np.meshgrid(thicknesses_x, Hvalues)"
   ]
  },
  {
   "cell_type": "code",
   "execution_count": 4,
   "metadata": {
    "collapsed": true
   },
   "outputs": [],
   "source": [
    "state_types = np.load('../data/figure_2/phase_diagram_state_types_demag.npy')"
   ]
  },
  {
   "cell_type": "code",
   "execution_count": 5,
   "metadata": {
    "collapsed": false
   },
   "outputs": [
    {
     "name": "stderr",
     "output_type": "stream",
     "text": [
      "/usr/local/lib/python2.7/dist-packages/matplotlib/text.py:2158: UserWarning: 'frac' option in 'arrowstyle' is no longer supported; use 'headlength' to set the head length in points.\n",
      "  \"'frac' option in 'arrowstyle' is no longer supported;\"\n"
     ]
    },
    {
     "data": {
      "image/png": "[encoded data removed]",
      "text/plain": [
       "<matplotlib.figure.Figure at 0x7f68e77c0110>"
      ]
     },
     "metadata": {},
     "output_type": "display_data"
    }
   ],
   "source": [
    "plt.figure(figsize=(10,8))\n",
    "\n",
    "bounds = [0, 1, 2, 3, 4, 5, 6]\n",
    "cm = [dark_purple, olive, light_green, white, light_purple, dark_green]\n",
    "cmap, norm = from_levels_and_colors(bounds, cm)\n",
    "\n",
    "plot = plt.pcolor(x, y, state_types, cmap=cmap, norm=norm, rasterized=True)\n",
    "plt.xlabel(\"thickness (nm)\", fontsize=20)\n",
    "plt.ylabel(r'H ($\\times$M$_{\\mathrm{s}}$)', fontsize=20)\n",
    "plt.tick_params(labelsize=16)\n",
    "\n",
    "plt.text(80, -0.73, '(b)', fontsize=20)\n",
    "plt.annotate('(d)', xy=(52, 0.25), xytext=(57, -0.25),\n",
    "            arrowprops=dict(facecolor='black', shrink=0.05, width=0.5, headwidth=6, frac=0.3),\n",
    "            fontsize=20)\n",
    "plt.annotate('(h)', xy=(40, 0.25), xytext=(30, -0.21),\n",
    "            arrowprops=dict(facecolor='black', shrink=0.05, width=0.5, headwidth=6, frac=0.3),\n",
    "            fontsize=20)\n",
    "\n",
    "cbar = plt.colorbar(plot)\n",
    "cbar.set_ticks([0.5, 1.5, 2.5, 3.5, 4.5, 5.5, 6.5])\n",
    "cbar.set_ticklabels(['', '', '', '', '', ''])\n",
    "cbar.ax.tick_params(labelsize=14)\n",
    "\n",
    "plt.axis([x.min(), x.max(), y.min(), y.max()])\n",
    "plt.show()"
   ]
  },
  {
   "cell_type": "code",
   "execution_count": 6,
   "metadata": {
    "collapsed": true
   },
   "outputs": [],
   "source": [
    "thicknesses_x = np.array([10,20,30,40,45,50,60,70,80,90]) - 2.5\n",
    "Hvalues = np.linspace(-4,4,401)\n",
    "x, y = np.meshgrid(thicknesses_x, Hvalues)"
   ]
  },
  {
   "cell_type": "code",
   "execution_count": 7,
   "metadata": {
    "collapsed": false
   },
   "outputs": [],
   "source": [
    "state_types_nd = np.load('../data/figure_2/phase_diagram_state_types_no_demag.npy')"
   ]
  },
  {
   "cell_type": "code",
   "execution_count": 8,
   "metadata": {
    "collapsed": false
   },
   "outputs": [
    {
     "data": {
      "image/png": "[encoded data removed]",
      "text/plain": [
       "<matplotlib.figure.Figure at 0x7f68e70da5d0>"
      ]
     },
     "metadata": {},
     "output_type": "display_data"
    }
   ],
   "source": [
    "plt.figure(figsize=(10,8))\n",
    "\n",
    "bounds = [0, 1, 2, 3, 4, 5, 6]\n",
    "cm = [dark_purple, olive, light_green, white, light_purple, dark_green]\n",
    "cmap, norm = from_levels_and_colors(bounds, cm)\n",
    "\n",
    "plot = plt.pcolor(x, y, state_types_nd, cmap=cmap, norm=norm, rasterized=True)\n",
    "plt.xlabel(\"thickness (nm)\", fontsize=20)\n",
    "plt.ylabel(r'H ($\\times$M$_{\\mathrm{s}}$)', fontsize=20)\n",
    "plt.tick_params(labelsize=16)\n",
    "\n",
    "cbar = plt.colorbar(plot)\n",
    "cbar.set_ticks([0.5, 1.5, 2.5, 3.5, 4.5, 5.5, 6.5])\n",
    "cbar.set_ticklabels(['', '', '', '', '', ''])\n",
    "cbar.ax.tick_params(labelsize=14)\n",
    "\n",
    "plt.axis([x.min(), x.max(), y.min(), y.max()])\n",
    "plt.show()"
   ]
  }
 ],
 "metadata": {
  "kernelspec": {
   "display_name": "Python 2",
   "language": "python",
   "name": "python2"
  },
  "language_info": {
   "codemirror_mode": {
    "name": "ipython",
    "version": 2
   },
   "file_extension": ".py",
   "mimetype": "text/x-python",
   "name": "python",
   "nbconvert_exporter": "python",
   "pygments_lexer": "ipython2",
   "version": "2.7.6"
  }
 },
 "nbformat": 4,
 "nbformat_minor": 0
}
